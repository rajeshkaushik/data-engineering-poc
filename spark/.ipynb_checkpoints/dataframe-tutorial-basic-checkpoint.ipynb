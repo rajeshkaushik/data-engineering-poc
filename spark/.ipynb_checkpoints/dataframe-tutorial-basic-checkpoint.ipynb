{
 "cells": [
  {
   "cell_type": "markdown",
   "id": "7d0e717e-7b01-47eb-90c5-9c912acdb7f0",
   "metadata": {},
   "source": [
    "# Dataframe tutorial - Basic\n",
    "In this tutorial we will cover\n",
    "- Pyspark dataframe\n",
    "- Reading data into dataframe\n",
    "- Checking the schema and datatypes\n",
    "- adding/renaming and deleting columns\n",
    "- filtering rows\n",
    "- fill missing values"
   ]
  },
  {
   "cell_type": "code",
   "execution_count": 144,
   "id": "67a07492-1774-4e4a-b3ec-5ad064a0ba57",
   "metadata": {},
   "outputs": [
    {
     "data": {
      "text/html": [
       "\n",
       "            <div>\n",
       "                <p><b>SparkSession - in-memory</b></p>\n",
       "                \n",
       "        <div>\n",
       "            <p><b>SparkContext</b></p>\n",
       "\n",
       "            <p><a href=\"http://192.168.29.185:4040\">Spark UI</a></p>\n",
       "\n",
       "            <dl>\n",
       "              <dt>Version</dt>\n",
       "                <dd><code>v3.5.0</code></dd>\n",
       "              <dt>Master</dt>\n",
       "                <dd><code>local[*]</code></dd>\n",
       "              <dt>AppName</dt>\n",
       "                <dd><code>dataframe</code></dd>\n",
       "            </dl>\n",
       "        </div>\n",
       "        \n",
       "            </div>\n",
       "        "
      ],
      "text/plain": [
       "<pyspark.sql.session.SparkSession at 0x10455cfa0>"
      ]
     },
     "execution_count": 144,
     "metadata": {},
     "output_type": "execute_result"
    }
   ],
   "source": [
    "from pyspark.sql import SparkSession\n",
    "\n",
    "spark = SparkSession.builder.appName('dataframe').getOrCreate()\n",
    "\n",
    "spark"
   ]
  },
  {
   "cell_type": "code",
   "execution_count": 31,
   "id": "0f40efb9-6e9a-40e0-9bd9-3ba3b3293f62",
   "metadata": {},
   "outputs": [],
   "source": [
    "movies_df = spark.read.option(\"delimiter\", \"::\").csv(\"../sample_data/movie-lense/movies.dat\", inferSchema=True, header=True)"
   ]
  },
  {
   "cell_type": "code",
   "execution_count": 26,
   "id": "a3c1e404-e0a2-4636-a474-ef948c1140d3",
   "metadata": {},
   "outputs": [
    {
     "name": "stdout",
     "output_type": "stream",
     "text": [
      "+-------+--------------------+--------------------+\n",
      "|MovieID|               Title|              Genres|\n",
      "+-------+--------------------+--------------------+\n",
      "|      1|    Toy Story (1995)|Animation|Childre...|\n",
      "|      2|      Jumanji (1995)|Adventure|Childre...|\n",
      "|      3|Grumpier Old Men ...|      Comedy|Romance|\n",
      "|      4|Waiting to Exhale...|        Comedy|Drama|\n",
      "|      5|Father of the Bri...|              Comedy|\n",
      "|      6|         Heat (1995)|Action|Crime|Thri...|\n",
      "|      7|      Sabrina (1995)|      Comedy|Romance|\n",
      "|      8| Tom and Huck (1995)|Adventure|Children's|\n",
      "|      9| Sudden Death (1995)|              Action|\n",
      "|     10|    GoldenEye (1995)|Action|Adventure|...|\n",
      "|     11|American Presiden...|Comedy|Drama|Romance|\n",
      "|     12|Dracula: Dead and...|       Comedy|Horror|\n",
      "|     13|        Balto (1995)|Animation|Children's|\n",
      "|     14|        Nixon (1995)|               Drama|\n",
      "|     15|Cutthroat Island ...|Action|Adventure|...|\n",
      "|     16|       Casino (1995)|      Drama|Thriller|\n",
      "|     17|Sense and Sensibi...|       Drama|Romance|\n",
      "|     18|   Four Rooms (1995)|            Thriller|\n",
      "|     19|Ace Ventura: When...|              Comedy|\n",
      "|     20|  Money Train (1995)|              Action|\n",
      "+-------+--------------------+--------------------+\n",
      "only showing top 20 rows\n",
      "\n"
     ]
    }
   ],
   "source": [
    "movies_df.show()"
   ]
  },
  {
   "cell_type": "code",
   "execution_count": 33,
   "id": "eb32e918-90eb-4e73-a7b2-9c59d4b9cdbb",
   "metadata": {},
   "outputs": [
    {
     "data": {
      "text/plain": [
       "[Row(MovieID=1, Title='Toy Story (1995)', Genres=\"Animation|Children's|Comedy\"),\n",
       " Row(MovieID=2, Title='Jumanji (1995)', Genres=\"Adventure|Children's|Fantasy\"),\n",
       " Row(MovieID=3, Title='Grumpier Old Men (1995)', Genres='Comedy|Romance')]"
      ]
     },
     "execution_count": 33,
     "metadata": {},
     "output_type": "execute_result"
    }
   ],
   "source": [
    "movies_df.head(3)"
   ]
  },
  {
   "cell_type": "code",
   "execution_count": 27,
   "id": "379b746e-7693-49dc-a05b-1a9c4215fe31",
   "metadata": {},
   "outputs": [
    {
     "name": "stdout",
     "output_type": "stream",
     "text": [
      "root\n",
      " |-- MovieID: integer (nullable = true)\n",
      " |-- Title: string (nullable = true)\n",
      " |-- Genres: string (nullable = true)\n",
      "\n"
     ]
    }
   ],
   "source": [
    "movies_df.printSchema()"
   ]
  },
  {
   "cell_type": "code",
   "execution_count": 28,
   "id": "8a40d605-b472-4a08-8b3d-673d4811c40a",
   "metadata": {},
   "outputs": [
    {
     "data": {
      "text/plain": [
       "3883"
      ]
     },
     "execution_count": 28,
     "metadata": {},
     "output_type": "execute_result"
    }
   ],
   "source": [
    "movies_df.count()"
   ]
  },
  {
   "cell_type": "code",
   "execution_count": 32,
   "id": "0c49f6ff-1bf5-4066-9319-f1667f81c522",
   "metadata": {},
   "outputs": [
    {
     "data": {
      "text/plain": [
       "pyspark.sql.dataframe.DataFrame"
      ]
     },
     "execution_count": 32,
     "metadata": {},
     "output_type": "execute_result"
    }
   ],
   "source": [
    "type(movies_df)"
   ]
  },
  {
   "cell_type": "code",
   "execution_count": 38,
   "id": "b3b0db27-0327-407b-9aeb-4f77c8e479af",
   "metadata": {},
   "outputs": [
    {
     "name": "stdout",
     "output_type": "stream",
     "text": [
      "+-------+--------------------+\n",
      "|MovieID|               Title|\n",
      "+-------+--------------------+\n",
      "|      1|    Toy Story (1995)|\n",
      "|      2|      Jumanji (1995)|\n",
      "|      3|Grumpier Old Men ...|\n",
      "|      4|Waiting to Exhale...|\n",
      "|      5|Father of the Bri...|\n",
      "|      6|         Heat (1995)|\n",
      "|      7|      Sabrina (1995)|\n",
      "|      8| Tom and Huck (1995)|\n",
      "|      9| Sudden Death (1995)|\n",
      "|     10|    GoldenEye (1995)|\n",
      "|     11|American Presiden...|\n",
      "|     12|Dracula: Dead and...|\n",
      "|     13|        Balto (1995)|\n",
      "|     14|        Nixon (1995)|\n",
      "|     15|Cutthroat Island ...|\n",
      "|     16|       Casino (1995)|\n",
      "|     17|Sense and Sensibi...|\n",
      "|     18|   Four Rooms (1995)|\n",
      "|     19|Ace Ventura: When...|\n",
      "|     20|  Money Train (1995)|\n",
      "+-------+--------------------+\n",
      "only showing top 20 rows\n",
      "\n"
     ]
    }
   ],
   "source": [
    "movies_df.select(['MovieID', 'Title']).show()"
   ]
  },
  {
   "cell_type": "code",
   "execution_count": 39,
   "id": "6045de58-6b59-493c-ba56-37882cf40cec",
   "metadata": {},
   "outputs": [
    {
     "data": {
      "text/plain": [
       "[('MovieID', 'int'), ('Title', 'string'), ('Genres', 'string')]"
      ]
     },
     "execution_count": 39,
     "metadata": {},
     "output_type": "execute_result"
    }
   ],
   "source": [
    "movies_df.dtypes"
   ]
  },
  {
   "cell_type": "code",
   "execution_count": 40,
   "id": "7d2e3186-d4b5-40b1-8920-e66fe4feac49",
   "metadata": {},
   "outputs": [
    {
     "name": "stdout",
     "output_type": "stream",
     "text": [
      "+-------+------------------+--------------------+-------+\n",
      "|summary|           MovieID|               Title| Genres|\n",
      "+-------+------------------+--------------------+-------+\n",
      "|  count|              3883|                3883|   3883|\n",
      "|   mean|1986.0494463044038|                NULL|   NULL|\n",
      "| stddev|1146.7783494728876|                NULL|   NULL|\n",
      "|    min|                 1|$1,000,000 Duck (...| Action|\n",
      "|    max|              3952|     eXistenZ (1999)|Western|\n",
      "+-------+------------------+--------------------+-------+\n",
      "\n"
     ]
    }
   ],
   "source": [
    "movies_df.describe().show()"
   ]
  },
  {
   "cell_type": "code",
   "execution_count": 80,
   "id": "3fcca07e-6b0e-4bea-a4ed-edede628e9ba",
   "metadata": {},
   "outputs": [
    {
     "name": "stdout",
     "output_type": "stream",
     "text": [
      "+-------+--------------------+--------------------+------------+\n",
      "|MovieID|               Title|              Genres|Release Year|\n",
      "+-------+--------------------+--------------------+------------+\n",
      "|      1|    Toy Story (1995)|Animation|Childre...|        1995|\n",
      "|      2|      Jumanji (1995)|Adventure|Childre...|        1995|\n",
      "|      3|Grumpier Old Men ...|      Comedy|Romance|        1995|\n",
      "|      4|Waiting to Exhale...|        Comedy|Drama|        1995|\n",
      "|      5|Father of the Bri...|              Comedy|        1995|\n",
      "|      6|         Heat (1995)|Action|Crime|Thri...|        1995|\n",
      "|      7|      Sabrina (1995)|      Comedy|Romance|        1995|\n",
      "|      8| Tom and Huck (1995)|Adventure|Children's|        1995|\n",
      "|      9| Sudden Death (1995)|              Action|        1995|\n",
      "|     10|    GoldenEye (1995)|Action|Adventure|...|        1995|\n",
      "|     11|American Presiden...|Comedy|Drama|Romance|        1995|\n",
      "|     12|Dracula: Dead and...|       Comedy|Horror|        1995|\n",
      "|     13|        Balto (1995)|Animation|Children's|        1995|\n",
      "|     14|        Nixon (1995)|               Drama|        1995|\n",
      "|     15|Cutthroat Island ...|Action|Adventure|...|        1995|\n",
      "|     16|       Casino (1995)|      Drama|Thriller|        1995|\n",
      "|     17|Sense and Sensibi...|       Drama|Romance|        1995|\n",
      "|     18|   Four Rooms (1995)|            Thriller|        1995|\n",
      "|     19|Ace Ventura: When...|              Comedy|        1995|\n",
      "|     20|  Money Train (1995)|              Action|        1995|\n",
      "+-------+--------------------+--------------------+------------+\n",
      "only showing top 20 rows\n",
      "\n"
     ]
    }
   ],
   "source": [
    "# adding new derived column\n",
    "movies_df = movies_df.withColumn('Release Year', movies_df.Title.substr(-5,4))\n",
    "movies_df.show()"
   ]
  },
  {
   "cell_type": "code",
   "execution_count": 83,
   "id": "fe672fe1-8ce6-4395-a7e0-51e4d0d8b89d",
   "metadata": {},
   "outputs": [
    {
     "name": "stdout",
     "output_type": "stream",
     "text": [
      "+-------+--------------------+--------------------+-----------+\n",
      "|MovieID|               Title|              Genres|ReleaseYear|\n",
      "+-------+--------------------+--------------------+-----------+\n",
      "|      1|    Toy Story (1995)|Animation|Childre...|       1995|\n",
      "|      2|      Jumanji (1995)|Adventure|Childre...|       1995|\n",
      "|      3|Grumpier Old Men ...|      Comedy|Romance|       1995|\n",
      "|      4|Waiting to Exhale...|        Comedy|Drama|       1995|\n",
      "|      5|Father of the Bri...|              Comedy|       1995|\n",
      "|      6|         Heat (1995)|Action|Crime|Thri...|       1995|\n",
      "|      7|      Sabrina (1995)|      Comedy|Romance|       1995|\n",
      "|      8| Tom and Huck (1995)|Adventure|Children's|       1995|\n",
      "|      9| Sudden Death (1995)|              Action|       1995|\n",
      "|     10|    GoldenEye (1995)|Action|Adventure|...|       1995|\n",
      "|     11|American Presiden...|Comedy|Drama|Romance|       1995|\n",
      "|     12|Dracula: Dead and...|       Comedy|Horror|       1995|\n",
      "|     13|        Balto (1995)|Animation|Children's|       1995|\n",
      "|     14|        Nixon (1995)|               Drama|       1995|\n",
      "|     15|Cutthroat Island ...|Action|Adventure|...|       1995|\n",
      "|     16|       Casino (1995)|      Drama|Thriller|       1995|\n",
      "|     17|Sense and Sensibi...|       Drama|Romance|       1995|\n",
      "|     18|   Four Rooms (1995)|            Thriller|       1995|\n",
      "|     19|Ace Ventura: When...|              Comedy|       1995|\n",
      "|     20|  Money Train (1995)|              Action|       1995|\n",
      "+-------+--------------------+--------------------+-----------+\n",
      "only showing top 20 rows\n",
      "\n"
     ]
    }
   ],
   "source": [
    "# renaming a column\n",
    "movies_df = movies_df.withColumnRenamed('Release Year', 'ReleaseYear')\n",
    "movies_df.show()"
   ]
  },
  {
   "cell_type": "code",
   "execution_count": 85,
   "id": "16663693-0fba-4239-b54b-f15bafe6e135",
   "metadata": {},
   "outputs": [
    {
     "name": "stdout",
     "output_type": "stream",
     "text": [
      "+-------+--------------------+--------------------+\n",
      "|MovieID|               Title|              Genres|\n",
      "+-------+--------------------+--------------------+\n",
      "|      1|    Toy Story (1995)|Animation|Childre...|\n",
      "|      2|      Jumanji (1995)|Adventure|Childre...|\n",
      "|      3|Grumpier Old Men ...|      Comedy|Romance|\n",
      "|      4|Waiting to Exhale...|        Comedy|Drama|\n",
      "|      5|Father of the Bri...|              Comedy|\n",
      "|      6|         Heat (1995)|Action|Crime|Thri...|\n",
      "|      7|      Sabrina (1995)|      Comedy|Romance|\n",
      "|      8| Tom and Huck (1995)|Adventure|Children's|\n",
      "|      9| Sudden Death (1995)|              Action|\n",
      "|     10|    GoldenEye (1995)|Action|Adventure|...|\n",
      "|     11|American Presiden...|Comedy|Drama|Romance|\n",
      "|     12|Dracula: Dead and...|       Comedy|Horror|\n",
      "|     13|        Balto (1995)|Animation|Children's|\n",
      "|     14|        Nixon (1995)|               Drama|\n",
      "|     15|Cutthroat Island ...|Action|Adventure|...|\n",
      "|     16|       Casino (1995)|      Drama|Thriller|\n",
      "|     17|Sense and Sensibi...|       Drama|Romance|\n",
      "|     18|   Four Rooms (1995)|            Thriller|\n",
      "|     19|Ace Ventura: When...|              Comedy|\n",
      "|     20|  Money Train (1995)|              Action|\n",
      "+-------+--------------------+--------------------+\n",
      "only showing top 20 rows\n",
      "\n"
     ]
    }
   ],
   "source": [
    "# dropping a column\n",
    "movies_df = movies_df.drop('ReleaseYear')\n",
    "movies_df.show()"
   ]
  },
  {
   "cell_type": "code",
   "execution_count": 130,
   "id": "0f2ae5cb-6721-458f-bff2-94fbf5457015",
   "metadata": {},
   "outputs": [
    {
     "name": "stdout",
     "output_type": "stream",
     "text": [
      "+-------+--------------------+\n",
      "|movieid|               title|\n",
      "+-------+--------------------+\n",
      "|      1|    Toy Story (1995)|\n",
      "|      2|      Jumanji (1995)|\n",
      "|      3|Grumpier Old Men ...|\n",
      "|      4|Waiting to Exhale...|\n",
      "|      5|Father of the Bri...|\n",
      "|      6|         Heat (1995)|\n",
      "|      7|      Sabrina (1995)|\n",
      "|      8| Tom and Huck (1995)|\n",
      "|      9| Sudden Death (1995)|\n",
      "|     10|    GoldenEye (1995)|\n",
      "|     11|American Presiden...|\n",
      "|     12|Dracula: Dead and...|\n",
      "|     13|        Balto (1995)|\n",
      "|     14|        Nixon (1995)|\n",
      "|     15|Cutthroat Island ...|\n",
      "+-------+--------------------+\n",
      "\n"
     ]
    }
   ],
   "source": [
    "# filtering rows\n",
    "movies_df.filter('movieid<16').select('movieid', 'title').show()"
   ]
  },
  {
   "cell_type": "code",
   "execution_count": 131,
   "id": "23fc5a7a-e0b7-453e-bcb1-41d6810d374a",
   "metadata": {},
   "outputs": [
    {
     "name": "stdout",
     "output_type": "stream",
     "text": [
      "+-------+--------------------+--------------------+\n",
      "|MovieID|               Title|              Genres|\n",
      "+-------+--------------------+--------------------+\n",
      "|      6|         Heat (1995)|Action|Crime|Thri...|\n",
      "|      7|      Sabrina (1995)|      Comedy|Romance|\n",
      "|      8| Tom and Huck (1995)|Adventure|Children's|\n",
      "|      9| Sudden Death (1995)|              Action|\n",
      "|     10|    GoldenEye (1995)|Action|Adventure|...|\n",
      "|     11|American Presiden...|Comedy|Drama|Romance|\n",
      "|     12|Dracula: Dead and...|       Comedy|Horror|\n",
      "|     13|        Balto (1995)|Animation|Children's|\n",
      "|     14|        Nixon (1995)|               Drama|\n",
      "|     15|Cutthroat Island ...|Action|Adventure|...|\n",
      "+-------+--------------------+--------------------+\n",
      "\n"
     ]
    }
   ],
   "source": [
    "# filtering rows\n",
    "movies_df.filter('movieid<16 AND movieid>5').show()"
   ]
  },
  {
   "cell_type": "code",
   "execution_count": 143,
   "id": "fd83c22b-a542-4f3c-9c82-ebb1dc10188e",
   "metadata": {},
   "outputs": [
    {
     "name": "stdout",
     "output_type": "stream",
     "text": [
      "+-------+--------------------+--------------------+\n",
      "|MovieID|               Title|              Genres|\n",
      "+-------+--------------------+--------------------+\n",
      "|      6|         Heat (1995)|Action|Crime|Thri...|\n",
      "|      7|      Sabrina (1995)|      Comedy|Romance|\n",
      "|      8| Tom and Huck (1995)|Adventure|Children's|\n",
      "|      9| Sudden Death (1995)|              Action|\n",
      "|     10|    GoldenEye (1995)|Action|Adventure|...|\n",
      "|     11|American Presiden...|Comedy|Drama|Romance|\n",
      "|     12|Dracula: Dead and...|       Comedy|Horror|\n",
      "|     13|        Balto (1995)|Animation|Children's|\n",
      "|     14|        Nixon (1995)|               Drama|\n",
      "|     15|Cutthroat Island ...|Action|Adventure|...|\n",
      "+-------+--------------------+--------------------+\n",
      "\n"
     ]
    }
   ],
   "source": [
    "movies_df.filter((movies_df['movieid'] < 16) & (movies_df['movieid'] > 5)).show()"
   ]
  },
  {
   "cell_type": "code",
   "execution_count": 93,
   "id": "8ced5862-5b5a-44de-aed3-96e0b63e51b7",
   "metadata": {},
   "outputs": [
    {
     "name": "stdout",
     "output_type": "stream",
     "text": [
      "+---------+----+----------+------+\n",
      "|     Name| age|Experience|Salary|\n",
      "+---------+----+----------+------+\n",
      "|    Krish|  31|        10| 30000|\n",
      "|Sudhanshu|  30|         8| 25000|\n",
      "|    Sunny|  29|         4| 20000|\n",
      "|     Paul|  24|         3| 20000|\n",
      "|   Harsha|  21|         1| 15000|\n",
      "|  Shubham|  23|         2| 18000|\n",
      "|   Mahesh|NULL|      NULL| 40000|\n",
      "|     NULL|  34|        10| 38000|\n",
      "|     NULL|  36|      NULL|  NULL|\n",
      "+---------+----+----------+------+\n",
      "\n"
     ]
    }
   ],
   "source": [
    "emp_df = spark.read.csv('../sample_data/employee_data/test.csv', header=True, inferSchema=True)\n",
    "emp_df.show()"
   ]
  },
  {
   "cell_type": "code",
   "execution_count": 95,
   "id": "41ce8850-05cf-4c3a-8cb6-62d9f47621e7",
   "metadata": {},
   "outputs": [
    {
     "name": "stdout",
     "output_type": "stream",
     "text": [
      "+---------+---+----------+------+\n",
      "|     Name|age|Experience|Salary|\n",
      "+---------+---+----------+------+\n",
      "|    Krish| 31|        10| 30000|\n",
      "|Sudhanshu| 30|         8| 25000|\n",
      "|    Sunny| 29|         4| 20000|\n",
      "|     Paul| 24|         3| 20000|\n",
      "|   Harsha| 21|         1| 15000|\n",
      "|  Shubham| 23|         2| 18000|\n",
      "+---------+---+----------+------+\n",
      "\n"
     ]
    }
   ],
   "source": [
    "# drop rows that have null value for any column\n",
    "emp_df.na.drop().show()"
   ]
  },
  {
   "cell_type": "code",
   "execution_count": 96,
   "id": "cd4b2c04-d09f-473b-a525-407e67b2f9ed",
   "metadata": {},
   "outputs": [
    {
     "name": "stdout",
     "output_type": "stream",
     "text": [
      "+---------+---+----------+------+\n",
      "|     Name|age|Experience|Salary|\n",
      "+---------+---+----------+------+\n",
      "|    Krish| 31|        10| 30000|\n",
      "|Sudhanshu| 30|         8| 25000|\n",
      "|    Sunny| 29|         4| 20000|\n",
      "|     Paul| 24|         3| 20000|\n",
      "|   Harsha| 21|         1| 15000|\n",
      "|  Shubham| 23|         2| 18000|\n",
      "+---------+---+----------+------+\n",
      "\n"
     ]
    }
   ],
   "source": [
    "# another way\n",
    "emp_df.na.drop(how='any').show()"
   ]
  },
  {
   "cell_type": "code",
   "execution_count": 100,
   "id": "e13a890c-db14-4019-9de0-55a888aee915",
   "metadata": {},
   "outputs": [
    {
     "name": "stdout",
     "output_type": "stream",
     "text": [
      "+---------+----+----------+------+\n",
      "|     Name| age|Experience|Salary|\n",
      "+---------+----+----------+------+\n",
      "|    Krish|  31|        10| 30000|\n",
      "|Sudhanshu|  30|         8| 25000|\n",
      "|    Sunny|  29|         4| 20000|\n",
      "|     Paul|  24|         3| 20000|\n",
      "|   Harsha|  21|         1| 15000|\n",
      "|  Shubham|  23|         2| 18000|\n",
      "|   Mahesh|NULL|      NULL| 40000|\n",
      "|     NULL|  34|        10| 38000|\n",
      "+---------+----+----------+------+\n",
      "\n"
     ]
    }
   ],
   "source": [
    "# apply threshold \n",
    "emp_df.na.drop(how='any', thresh=2).show() # keep rows that have at least 2 vlues"
   ]
  },
  {
   "cell_type": "code",
   "execution_count": 103,
   "id": "06c56596-809c-4534-af30-0b489fd1d971",
   "metadata": {},
   "outputs": [
    {
     "name": "stdout",
     "output_type": "stream",
     "text": [
      "+---------+---+----------+------+\n",
      "|     Name|age|Experience|Salary|\n",
      "+---------+---+----------+------+\n",
      "|    Krish| 31|        10| 30000|\n",
      "|Sudhanshu| 30|         8| 25000|\n",
      "|    Sunny| 29|         4| 20000|\n",
      "|     Paul| 24|         3| 20000|\n",
      "|   Harsha| 21|         1| 15000|\n",
      "|  Shubham| 23|         2| 18000|\n",
      "|     NULL| 34|        10| 38000|\n",
      "|     NULL| 36|      NULL|  NULL|\n",
      "+---------+---+----------+------+\n",
      "\n"
     ]
    }
   ],
   "source": [
    "# drop based on subset columns\n",
    "emp_df.na.drop(how='any', subset=['age']).show()"
   ]
  },
  {
   "cell_type": "code",
   "execution_count": 105,
   "id": "f947c2de-7126-4eca-aa56-23ebcc77ca9c",
   "metadata": {},
   "outputs": [
    {
     "name": "stdout",
     "output_type": "stream",
     "text": [
      "+---------+---+----------+------+\n",
      "|     Name|age|Experience|Salary|\n",
      "+---------+---+----------+------+\n",
      "|    Krish| 31|        10| 30000|\n",
      "|Sudhanshu| 30|         8| 25000|\n",
      "|    Sunny| 29|         4| 20000|\n",
      "|     Paul| 24|         3| 20000|\n",
      "|   Harsha| 21|         1| 15000|\n",
      "|  Shubham| 23|         2| 18000|\n",
      "|     NULL| 34|        10| 38000|\n",
      "+---------+---+----------+------+\n",
      "\n"
     ]
    }
   ],
   "source": [
    "# drop based on subset columns\n",
    "emp_df.na.drop(how='any', subset=['age', 'salary']).show()"
   ]
  },
  {
   "cell_type": "code",
   "execution_count": 117,
   "id": "1c40f2a4-2148-44d3-9b6c-83df70c8736f",
   "metadata": {},
   "outputs": [
    {
     "name": "stdout",
     "output_type": "stream",
     "text": [
      "+---------+---+----------+------+\n",
      "|     Name|age|Experience|Salary|\n",
      "+---------+---+----------+------+\n",
      "|    Krish| 31|        10| 30000|\n",
      "|Sudhanshu| 30|         8| 25000|\n",
      "|    Sunny| 29|         4| 20000|\n",
      "|     Paul| 24|         3| 20000|\n",
      "|   Harsha| 21|         1| 15000|\n",
      "|  Shubham| 23|         2| 18000|\n",
      "|   Mahesh| 50|      NULL| 40000|\n",
      "|  Missing| 34|        10| 38000|\n",
      "|  Missing| 36|      NULL|  NULL|\n",
      "+---------+---+----------+------+\n",
      "\n"
     ]
    }
   ],
   "source": [
    "# fill missing values with a string\n",
    "emp_df.fillna({'name':'Missing', 'age':50}).show()"
   ]
  },
  {
   "cell_type": "code",
   "execution_count": 121,
   "id": "d0f74fa4-a088-4ce6-8732-e068449d9ff4",
   "metadata": {},
   "outputs": [
    {
     "name": "stdout",
     "output_type": "stream",
     "text": [
      "+---------+----+----------+------+-----------+------------------+--------------+\n",
      "|     Name| age|Experience|Salary|age_imputed|Experience_imputed|Salary_imputed|\n",
      "+---------+----+----------+------+-----------+------------------+--------------+\n",
      "|    Krish|  31|        10| 30000|         31|                10|         30000|\n",
      "|Sudhanshu|  30|         8| 25000|         30|                 8|         25000|\n",
      "|    Sunny|  29|         4| 20000|         29|                 4|         20000|\n",
      "|     Paul|  24|         3| 20000|         24|                 3|         20000|\n",
      "|   Harsha|  21|         1| 15000|         21|                 1|         15000|\n",
      "|  Shubham|  23|         2| 18000|         23|                 2|         18000|\n",
      "|   Mahesh|NULL|      NULL| 40000|         29|                 4|         40000|\n",
      "|     NULL|  34|        10| 38000|         34|                10|         38000|\n",
      "|     NULL|  36|      NULL|  NULL|         36|                 4|         20000|\n",
      "+---------+----+----------+------+-----------+------------------+--------------+\n",
      "\n"
     ]
    }
   ],
   "source": [
    "# fill age, experiance and salary with the min value of respective column\n",
    "from pyspark.ml.feature import Imputer\n",
    "\n",
    "imputer = Imputer(\n",
    "    inputCols=['age', 'Experience', 'Salary'], \n",
    "    outputCols=[\"{}_imputed\".format(c) for c in ['age', 'Experience', 'Salary']]\n",
    "    ).setStrategy(\"median\")\n",
    "\n",
    "imputer.fit(emp_df).transform(emp_df).show()"
   ]
  }
 ],
 "metadata": {
  "kernelspec": {
   "display_name": "Python 3 (ipykernel)",
   "language": "python",
   "name": "python3"
  },
  "language_info": {
   "codemirror_mode": {
    "name": "ipython",
    "version": 3
   },
   "file_extension": ".py",
   "mimetype": "text/x-python",
   "name": "python",
   "nbconvert_exporter": "python",
   "pygments_lexer": "ipython3",
   "version": "3.10.11"
  }
 },
 "nbformat": 4,
 "nbformat_minor": 5
}
