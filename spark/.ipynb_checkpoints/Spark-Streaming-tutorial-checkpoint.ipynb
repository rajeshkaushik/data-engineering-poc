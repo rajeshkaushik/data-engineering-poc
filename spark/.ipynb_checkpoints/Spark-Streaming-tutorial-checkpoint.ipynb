{
 "cells": [
  {
   "cell_type": "markdown",
   "id": "e7603945-6699-452b-b42c-13802cb96e6e",
   "metadata": {},
   "source": [
    "# Spark streaming tutorial\n",
    "In this tutorial, we will cover\n",
    "- Integration with Kafka topic\n",
    "- Processing Kafka stream data\n",
    "- Finding totp trending hashtags in last 30 mins"
   ]
  },
  {
   "cell_type": "code",
   "execution_count": 1,
   "id": "b2b486ea-3e22-44d3-b6a1-418dc230f593",
   "metadata": {},
   "outputs": [],
   "source": [
    "import os\n",
    "os.environ['PYSPARK_SUBMIT_ARGS'] = '--packages org.apache.spark:spark-streaming-kafka-0-10_2.12:3.2.0,org.apache.spark:spark-sql-kafka-0-10_2.12:3.2.0 pyspark-shell'"
   ]
  },
  {
   "cell_type": "code",
   "execution_count": 2,
   "id": "23a1c580-4b78-451c-a177-e4cd8e28b395",
   "metadata": {},
   "outputs": [
    {
     "name": "stderr",
     "output_type": "stream",
     "text": [
      "24/02/15 18:44:46 WARN Utils: Your hostname, ndi-mb-275 resolves to a loopback address: 127.0.0.1; using 192.168.29.185 instead (on interface en0)\n",
      "24/02/15 18:44:46 WARN Utils: Set SPARK_LOCAL_IP if you need to bind to another address\n",
      "Ivy Default Cache set to: /Users/rajesh.kaushik/.ivy2/cache\n",
      "The jars for the packages stored in: /Users/rajesh.kaushik/.ivy2/jars\n",
      "org.apache.spark#spark-streaming-kafka-0-10_2.12 added as a dependency\n",
      "org.apache.spark#spark-sql-kafka-0-10_2.12 added as a dependency\n",
      ":: resolving dependencies :: org.apache.spark#spark-submit-parent-8e007655-8d00-4816-8e97-1df3cea2b109;1.0\n",
      "\tconfs: [default]\n"
     ]
    },
    {
     "name": "stdout",
     "output_type": "stream",
     "text": [
      ":: loading settings :: url = jar:file:/Users/rajesh.kaushik/spark/jars/ivy-2.5.1.jar!/org/apache/ivy/core/settings/ivysettings.xml\n"
     ]
    },
    {
     "name": "stderr",
     "output_type": "stream",
     "text": [
      "\tfound org.apache.spark#spark-streaming-kafka-0-10_2.12;3.2.0 in central\n",
      "\tfound org.apache.spark#spark-token-provider-kafka-0-10_2.12;3.2.0 in central\n",
      "\tfound org.apache.kafka#kafka-clients;2.8.0 in central\n",
      "\tfound org.lz4#lz4-java;1.7.1 in central\n",
      "\tfound org.xerial.snappy#snappy-java;1.1.8.4 in central\n",
      "\tfound org.slf4j#slf4j-api;1.7.30 in central\n",
      "\tfound org.apache.hadoop#hadoop-client-runtime;3.3.1 in central\n",
      "\tfound org.spark-project.spark#unused;1.0.0 in central\n",
      "\tfound org.apache.hadoop#hadoop-client-api;3.3.1 in central\n",
      "\tfound org.apache.htrace#htrace-core4;4.1.0-incubating in central\n",
      "\tfound commons-logging#commons-logging;1.1.3 in central\n",
      "\tfound com.google.code.findbugs#jsr305;3.0.0 in central\n",
      "\tfound org.apache.spark#spark-sql-kafka-0-10_2.12;3.2.0 in central\n",
      "\tfound org.apache.commons#commons-pool2;2.6.2 in central\n",
      ":: resolution report :: resolve 296ms :: artifacts dl 13ms\n",
      "\t:: modules in use:\n",
      "\tcom.google.code.findbugs#jsr305;3.0.0 from central in [default]\n",
      "\tcommons-logging#commons-logging;1.1.3 from central in [default]\n",
      "\torg.apache.commons#commons-pool2;2.6.2 from central in [default]\n",
      "\torg.apache.hadoop#hadoop-client-api;3.3.1 from central in [default]\n",
      "\torg.apache.hadoop#hadoop-client-runtime;3.3.1 from central in [default]\n",
      "\torg.apache.htrace#htrace-core4;4.1.0-incubating from central in [default]\n",
      "\torg.apache.kafka#kafka-clients;2.8.0 from central in [default]\n",
      "\torg.apache.spark#spark-sql-kafka-0-10_2.12;3.2.0 from central in [default]\n",
      "\torg.apache.spark#spark-streaming-kafka-0-10_2.12;3.2.0 from central in [default]\n",
      "\torg.apache.spark#spark-token-provider-kafka-0-10_2.12;3.2.0 from central in [default]\n",
      "\torg.lz4#lz4-java;1.7.1 from central in [default]\n",
      "\torg.slf4j#slf4j-api;1.7.30 from central in [default]\n",
      "\torg.spark-project.spark#unused;1.0.0 from central in [default]\n",
      "\torg.xerial.snappy#snappy-java;1.1.8.4 from central in [default]\n",
      "\t---------------------------------------------------------------------\n",
      "\t|                  |            modules            ||   artifacts   |\n",
      "\t|       conf       | number| search|dwnlded|evicted|| number|dwnlded|\n",
      "\t---------------------------------------------------------------------\n",
      "\t|      default     |   14  |   0   |   0   |   0   ||   14  |   0   |\n",
      "\t---------------------------------------------------------------------\n",
      ":: retrieving :: org.apache.spark#spark-submit-parent-8e007655-8d00-4816-8e97-1df3cea2b109\n",
      "\tconfs: [default]\n",
      "\t0 artifacts copied, 14 already retrieved (0kB/16ms)\n",
      "24/02/15 18:44:47 WARN NativeCodeLoader: Unable to load native-hadoop library for your platform... using builtin-java classes where applicable\n",
      "Setting default log level to \"WARN\".\n",
      "To adjust logging level use sc.setLogLevel(newLevel). For SparkR, use setLogLevel(newLevel).\n"
     ]
    }
   ],
   "source": [
    "from pyspark.sql import SparkSession\n",
    "from pyspark.sql import functions as F\n",
    "\n",
    "spark = SparkSession.builder.appName('sparkstreamingapp').getOrCreate()\n",
    "spark.sparkContext.setLogLevel(\"ERROR\")"
   ]
  },
  {
   "cell_type": "markdown",
   "id": "bc5da0fb-03a2-4189-afab-5d85793eb131",
   "metadata": {},
   "source": [
    "We need to create a Kafka topic topic for publishing Tweets data. Make sure Kafka server is running or follow these commands\n",
    "- cd /kafka/installation/path\n",
    "- ./bin/zookeeper-server-start.sh ./config/zookeeper.properties\n",
    "- ./bin/kafka-server-start.sh ./config/server.properties\n",
    "- ./bin/kafka-topics.sh --create --topic tweets --bootstrap-server localhost:9092"
   ]
  },
  {
   "cell_type": "code",
   "execution_count": 3,
   "id": "acb31da8-7c8b-47a1-bb4d-ff414f38253f",
   "metadata": {},
   "outputs": [],
   "source": [
    "tweets_stream = spark \\\n",
    "  .readStream \\\n",
    "  .format(\"kafka\") \\\n",
    "  .option(\"kafka.bootstrap.servers\", \"localhost:9092\") \\\n",
    "  .option(\"subscribe\", \"tweets\") \\\n",
    "  .option(\"startingOffsets\", \"earliest\") \\\n",
    "  .load()"
   ]
  },
  {
   "cell_type": "code",
   "execution_count": 4,
   "id": "35fd2267-5c7f-4a70-855d-4ec9ca703a52",
   "metadata": {},
   "outputs": [],
   "source": [
    "from pyspark.sql.types import StructType, StructField, StringType, IntegerType, TimestampType, LongType, ArrayType\n",
    "SCHEMA = StructType([\n",
    "    StructField(\"user_name\", StringType()),\n",
    "    StructField(\"user_location\", StringType()),\n",
    "    StructField(\"user_description\", StringType()),\n",
    "    StructField(\"user_created\", StringType()),\n",
    "    StructField(\"user_followers\", StringType()),\n",
    "    StructField(\"user_friends\", StringType()),\n",
    "    StructField(\"user_favourites\", StringType()),\n",
    "    StructField(\"user_verified\", StringType()),\n",
    "    StructField(\"date\", StringType()),\n",
    "    StructField(\"text\", StringType()),\n",
    "    StructField(\"hashtags\", StringType()),\n",
    "    StructField(\"source\", StringType()),\n",
    "    StructField(\"is_retweet\", StringType())\n",
    "])"
   ]
  },
  {
   "cell_type": "code",
   "execution_count": null,
   "id": "6d241783-84bd-4fd8-ad08-99ca30dddbab",
   "metadata": {},
   "outputs": [
    {
     "name": "stderr",
     "output_type": "stream",
     "text": [
      "                                                                                \r"
     ]
    },
    {
     "name": "stdout",
     "output_type": "stream",
     "text": [
      "-------------------------------------------\n",
      "Batch: 0\n",
      "-------------------------------------------\n",
      "+------------------------------------------+-----------------------+-----+\n",
      "|window                                    |hashtag                |count|\n",
      "+------------------------------------------+-----------------------+-----+\n",
      "|{2024-02-15 18:30:00, 2024-02-15 18:35:00}|COVID19                |29   |\n",
      "|{2024-02-15 18:30:00, 2024-02-15 18:35:00}|covid19                |4    |\n",
      "|{2024-02-15 18:30:00, 2024-02-15 18:35:00}|coronavirus            |4    |\n",
      "|{2024-02-15 18:30:00, 2024-02-15 18:35:00}|BountyGateAintGoingAway|3    |\n",
      "|{2024-02-15 18:30:00, 2024-02-15 18:35:00}|GOP                    |2    |\n",
      "|{2024-02-15 18:30:00, 2024-02-15 18:35:00}|CoronavirusPandemic    |2    |\n",
      "|{2024-02-15 18:30:00, 2024-02-15 18:35:00}|COVID_19               |1    |\n",
      "|{2024-02-15 18:30:00, 2024-02-15 18:35:00}|perfumes               |1    |\n",
      "|{2024-02-15 18:30:00, 2024-02-15 18:35:00}|SingleFather           |1    |\n",
      "|{2024-02-15 18:30:00, 2024-02-15 18:35:00}|icicibank              |1    |\n",
      "|{2024-02-15 18:30:00, 2024-02-15 18:35:00}|COVID19PH              |1    |\n",
      "|{2024-02-15 18:30:00, 2024-02-15 18:35:00}|Father                 |1    |\n",
      "|{2024-02-15 18:30:00, 2024-02-15 18:35:00}|Coronavirus            |1    |\n",
      "|{2024-02-15 18:30:00, 2024-02-15 18:35:00}|infected               |1    |\n",
      "|{2024-02-15 18:30:00, 2024-02-15 18:35:00}|challenge              |1    |\n",
      "|{2024-02-15 18:30:00, 2024-02-15 18:35:00}|children               |1    |\n",
      "|{2024-02-15 18:30:00, 2024-02-15 18:35:00}|Grandchildren          |1    |\n",
      "|{2024-02-15 18:30:00, 2024-02-15 18:35:00}|ihaveajoke             |1    |\n",
      "|{2024-02-15 18:30:00, 2024-02-15 18:35:00}|CDC                    |1    |\n",
      "|{2024-02-15 18:30:00, 2024-02-15 18:35:00}|COVIDIOTS              |1    |\n",
      "+------------------------------------------+-----------------------+-----+\n",
      "only showing top 20 rows\n",
      "\n"
     ]
    },
    {
     "name": "stderr",
     "output_type": "stream",
     "text": [
      "                                                                                \r"
     ]
    },
    {
     "name": "stdout",
     "output_type": "stream",
     "text": [
      "-------------------------------------------\n",
      "Batch: 1\n",
      "-------------------------------------------\n",
      "+------------------------------------------+--------------------+-----+\n",
      "|window                                    |hashtag             |count|\n",
      "+------------------------------------------+--------------------+-----+\n",
      "|{2024-02-15 18:41:00, 2024-02-15 18:46:00}|COVID19             |16   |\n",
      "|{2024-02-15 18:41:00, 2024-02-15 18:46:00}|covid19             |3    |\n",
      "|{2024-02-15 18:41:00, 2024-02-15 18:46:00}|Covid19             |2    |\n",
      "|{2024-02-15 18:41:00, 2024-02-15 18:46:00}|FEMA                |1    |\n",
      "|{2024-02-15 18:41:00, 2024-02-15 18:46:00}|logodesinger        |1    |\n",
      "|{2024-02-15 18:41:00, 2024-02-15 18:46:00}|minimalist          |1    |\n",
      "|{2024-02-15 18:41:00, 2024-02-15 18:46:00}|WASH                |1    |\n",
      "|{2024-02-15 18:41:00, 2024-02-15 18:46:00}|icon                |1    |\n",
      "|{2024-02-15 18:41:00, 2024-02-15 18:46:00}|TN                  |1    |\n",
      "|{2024-02-15 18:41:00, 2024-02-15 18:46:00}|light               |1    |\n",
      "|{2024-02-15 18:41:00, 2024-02-15 18:46:00}|Africa              |1    |\n",
      "|{2024-02-15 18:41:00, 2024-02-15 18:46:00}|keepsocialdistance  |1    |\n",
      "|{2024-02-15 18:41:00, 2024-02-15 18:46:00}|logodesign          |1    |\n",
      "|{2024-02-15 18:41:00, 2024-02-15 18:46:00}|graphicdesigner     |1    |\n",
      "|{2024-02-15 18:41:00, 2024-02-15 18:46:00}|CoronaVirusUpdates  |1    |\n",
      "|{2024-02-15 18:41:00, 2024-02-15 18:46:00}|Abstract            |1    |\n",
      "|{2024-02-15 18:41:00, 2024-02-15 18:46:00}|coronavirus         |1    |\n",
      "|{2024-02-15 18:41:00, 2024-02-15 18:46:00}|BosniaandHerzegovina|1    |\n",
      "|{2024-02-15 18:41:00, 2024-02-15 18:46:00}|TNCoronaUpdate      |1    |\n",
      "|{2024-02-15 18:41:00, 2024-02-15 18:46:00}|covidPositive       |1    |\n",
      "+------------------------------------------+--------------------+-----+\n",
      "only showing top 20 rows\n",
      "\n"
     ]
    },
    {
     "name": "stderr",
     "output_type": "stream",
     "text": [
      "                                                                                \r"
     ]
    },
    {
     "name": "stdout",
     "output_type": "stream",
     "text": [
      "-------------------------------------------\n",
      "Batch: 2\n",
      "-------------------------------------------\n",
      "+------------------------------------------+-----------------+-----+\n",
      "|window                                    |hashtag          |count|\n",
      "+------------------------------------------+-----------------+-----+\n",
      "|{2024-02-15 18:42:00, 2024-02-15 18:47:00}|COVID19          |19   |\n",
      "|{2024-02-15 18:42:00, 2024-02-15 18:47:00}|TamilNadu        |2    |\n",
      "|{2024-02-15 18:42:00, 2024-02-15 18:47:00}|Industry         |1    |\n",
      "|{2024-02-15 18:42:00, 2024-02-15 18:47:00}|alreadyvideo     |1    |\n",
      "|{2024-02-15 18:42:00, 2024-02-15 18:47:00}|DurbanJuly       |1    |\n",
      "|{2024-02-15 18:42:00, 2024-02-15 18:47:00}|epiconetsy       |1    |\n",
      "|{2024-02-15 18:42:00, 2024-02-15 18:47:00}|Fergusons        |1    |\n",
      "|{2024-02-15 18:42:00, 2024-02-15 18:47:00}|Covid19          |1    |\n",
      "|{2024-02-15 18:42:00, 2024-02-15 18:47:00}|etsy             |1    |\n",
      "|{2024-02-15 18:42:00, 2024-02-15 18:47:00}|BorisJohnson     |1    |\n",
      "|{2024-02-15 18:42:00, 2024-02-15 18:47:00}|climate          |1    |\n",
      "|{2024-02-15 18:42:00, 2024-02-15 18:47:00}|5COBRA           |1    |\n",
      "|{2024-02-15 18:42:00, 2024-02-15 18:47:00}|covid19          |1    |\n",
      "|{2024-02-15 18:42:00, 2024-02-15 18:47:00}|PlayYourPart     |1    |\n",
      "|{2024-02-15 18:42:00, 2024-02-15 18:47:00}|زواج_راكان_الحربي|1    |\n",
      "|{2024-02-15 18:42:00, 2024-02-15 18:47:00}|Delhi            |1    |\n",
      "|{2024-02-15 18:42:00, 2024-02-15 18:47:00}|my200vsbutch200  |1    |\n",
      "|{2024-02-15 18:42:00, 2024-02-15 18:47:00}|Coronavirus      |1    |\n",
      "|{2024-02-15 18:42:00, 2024-02-15 18:47:00}|masksforsale     |1    |\n",
      "|{2024-02-15 18:42:00, 2024-02-15 18:47:00}|Five             |1    |\n",
      "+------------------------------------------+-----------------+-----+\n",
      "only showing top 20 rows\n",
      "\n"
     ]
    },
    {
     "name": "stderr",
     "output_type": "stream",
     "text": [
      "[Stage 16:==============================================>      (174 + 10) / 200]\r"
     ]
    }
   ],
   "source": [
    "def get_hashtags_list(hashtags):\n",
    "    return(eval(hashtags) if hashtags else [])\n",
    "\n",
    "my_udf = F.udf(get_hashtags_list, ArrayType(StringType()))\n",
    "    \n",
    "tweets_stream = tweets_stream\\\n",
    "    .select('timestamp',\n",
    "        F.from_json(\n",
    "            # decode string as iso-8859-1\n",
    "            F.decode(F.col(\"value\"), \"iso-8859-1\"),\n",
    "            SCHEMA\n",
    "        ).alias(\"value\")\n",
    "    )\\\n",
    "    .withColumn(\"hashtag\", F.explode(my_udf('value.hashtags')))\\\n",
    "    .groupBy(\n",
    "        F.window(\"timestamp\", \"5 minutes\", \"1 minutes\"),\n",
    "        F.col('hashtag'))\\\n",
    "    .count()\\\n",
    "    .orderBy(F.col('window').desc(), F.col('count').desc())\\\n",
    "    .writeStream\\\n",
    "    .option(\"truncate\", \"false\")\\\n",
    "    .outputMode(\"complete\")\\\n",
    "    .format(\"console\")\\\n",
    "    .trigger(processingTime='60 seconds') \\\n",
    "    .option(\"truncate\", \"false\")\\\n",
    "    .start().awaitTermination()"
   ]
  }
 ],
 "metadata": {
  "kernelspec": {
   "display_name": "Python 3 (ipykernel)",
   "language": "python",
   "name": "python3"
  },
  "language_info": {
   "codemirror_mode": {
    "name": "ipython",
    "version": 3
   },
   "file_extension": ".py",
   "mimetype": "text/x-python",
   "name": "python",
   "nbconvert_exporter": "python",
   "pygments_lexer": "ipython3",
   "version": "3.10.11"
  }
 },
 "nbformat": 4,
 "nbformat_minor": 5
}
