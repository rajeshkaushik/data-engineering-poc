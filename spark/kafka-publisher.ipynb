{
 "cells": [
  {
   "cell_type": "markdown",
   "id": "c9aed7c8-207b-47fb-9e94-2b9f2b3aa48e",
   "metadata": {},
   "source": [
    "# Publish data from cSV file on kafka topic"
   ]
  },
  {
   "cell_type": "code",
   "execution_count": null,
   "id": "470317fd-733e-46ae-9943-7066c29090d6",
   "metadata": {},
   "outputs": [],
   "source": [
    "from kafka import KafkaAdminClient, KafkaConsumer, KafkaProducer\n",
    "from kafka.admin import NewTopic\n",
    "import json\n",
    "from json import loads\n",
    "from csv import DictReader\n",
    "import time\n",
    "import random\n",
    "\n",
    "# Required setting for Kafka Producer\n",
    "bootstrap_servers = ['localhost:9092']\n",
    "topicname = 'tweets'\n",
    "producer = KafkaProducer(bootstrap_servers = bootstrap_servers)\n",
    "producer = KafkaProducer()\n",
    "\n",
    "\n",
    "# iterate over each line as a ordered dictionary and print only few column by column name\n",
    "with open('/Users/rajesh.kaushik/projects/data-engineering-poc/sample_data/covid19_tweets.csv','r') as read_obj:\n",
    "    csv_dict_reader = DictReader(read_obj)\n",
    "    for row in csv_dict_reader:\n",
    "        ack = producer.send(topicname, json.dumps(row).encode('utf-8'))\n",
    "        #print(row)\n",
    "        #print(json.dumps(row).encode('utf-8'))\n",
    "        metadata = ack.get()\n",
    "        #print(metadata.topic, metadata.partition)\n",
    "        time.sleep(random.random())"
   ]
  }
 ],
 "metadata": {
  "kernelspec": {
   "display_name": "Python 3 (ipykernel)",
   "language": "python",
   "name": "python3"
  },
  "language_info": {
   "codemirror_mode": {
    "name": "ipython",
    "version": 3
   },
   "file_extension": ".py",
   "mimetype": "text/x-python",
   "name": "python",
   "nbconvert_exporter": "python",
   "pygments_lexer": "ipython3",
   "version": "3.10.11"
  }
 },
 "nbformat": 4,
 "nbformat_minor": 5
}
