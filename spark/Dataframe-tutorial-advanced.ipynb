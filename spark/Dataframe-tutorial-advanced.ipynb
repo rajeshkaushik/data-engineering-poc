{
 "cells": [
  {
   "cell_type": "markdown",
   "id": "81d985f6-1e38-4355-a2be-263aa753fb4d",
   "metadata": {},
   "source": [
    "# Dataframe tutorial - Advanced\n",
    "In this tutorial we will cover\n",
    "- GroupBy and agreegate functions\n",
    "- Data joins\n",
    "- Movies recommendation using MLLib"
   ]
  },
  {
   "cell_type": "code",
   "execution_count": 1,
   "id": "cee91852-a52a-45be-bfd5-4bf013505a00",
   "metadata": {},
   "outputs": [
    {
     "name": "stderr",
     "output_type": "stream",
     "text": [
      "24/02/13 15:44:26 WARN Utils: Your hostname, ndi-mb-275 resolves to a loopback address: 127.0.0.1; using 192.168.29.185 instead (on interface en0)\n",
      "24/02/13 15:44:26 WARN Utils: Set SPARK_LOCAL_IP if you need to bind to another address\n",
      "Setting default log level to \"WARN\".\n",
      "To adjust logging level use sc.setLogLevel(newLevel). For SparkR, use setLogLevel(newLevel).\n",
      "24/02/13 15:44:26 WARN NativeCodeLoader: Unable to load native-hadoop library for your platform... using builtin-java classes where applicable\n"
     ]
    },
    {
     "data": {
      "text/html": [
       "\n",
       "            <div>\n",
       "                <p><b>SparkSession - in-memory</b></p>\n",
       "                \n",
       "        <div>\n",
       "            <p><b>SparkContext</b></p>\n",
       "\n",
       "            <p><a href=\"http://192.168.29.185:4040\">Spark UI</a></p>\n",
       "\n",
       "            <dl>\n",
       "              <dt>Version</dt>\n",
       "                <dd><code>v3.5.0</code></dd>\n",
       "              <dt>Master</dt>\n",
       "                <dd><code>local[*]</code></dd>\n",
       "              <dt>AppName</dt>\n",
       "                <dd><code>dataframe-advanced</code></dd>\n",
       "            </dl>\n",
       "        </div>\n",
       "        \n",
       "            </div>\n",
       "        "
      ],
      "text/plain": [
       "<pyspark.sql.session.SparkSession at 0x107d9dae0>"
      ]
     },
     "execution_count": 1,
     "metadata": {},
     "output_type": "execute_result"
    }
   ],
   "source": [
    "from pyspark.sql import SparkSession\n",
    "\n",
    "spark = SparkSession.builder.appName('dataframe-advanced').getOrCreate()\n",
    "\n",
    "spark"
   ]
  },
  {
   "cell_type": "code",
   "execution_count": 2,
   "id": "b46852a3-ad6a-4dae-a05a-8e466b743aee",
   "metadata": {},
   "outputs": [
    {
     "name": "stdout",
     "output_type": "stream",
     "text": [
      "+------+-------+------+---------+\n",
      "|UserID|MovieID|Rating|Timestamp|\n",
      "+------+-------+------+---------+\n",
      "|     1|   1193|     5|978300760|\n",
      "|     1|    661|     3|978302109|\n",
      "|     1|    914|     3|978301968|\n",
      "|     1|   3408|     4|978300275|\n",
      "|     1|   2355|     5|978824291|\n",
      "|     1|   1197|     3|978302268|\n",
      "|     1|   1287|     5|978302039|\n",
      "|     1|   2804|     5|978300719|\n",
      "|     1|    594|     4|978302268|\n",
      "|     1|    919|     4|978301368|\n",
      "|     1|    595|     5|978824268|\n",
      "|     1|    938|     4|978301752|\n",
      "|     1|   2398|     4|978302281|\n",
      "|     1|   2918|     4|978302124|\n",
      "|     1|   1035|     5|978301753|\n",
      "|     1|   2791|     4|978302188|\n",
      "|     1|   2687|     3|978824268|\n",
      "|     1|   2018|     4|978301777|\n",
      "|     1|   3105|     5|978301713|\n",
      "|     1|   2797|     4|978302039|\n",
      "+------+-------+------+---------+\n",
      "only showing top 20 rows\n",
      "\n"
     ]
    }
   ],
   "source": [
    "ratings_df = spark.read.option(\"delimiter\", \"::\").csv(\"../sample_data/movie-lense/ratings.dat\", inferSchema=True, header=True)\n",
    "ratings_df.show()"
   ]
  },
  {
   "cell_type": "code",
   "execution_count": 9,
   "id": "b5dd7fc1-a087-4c22-bdcc-efa0965954ed",
   "metadata": {},
   "outputs": [
    {
     "name": "stdout",
     "output_type": "stream",
     "text": [
      "root\n",
      " |-- UserID: integer (nullable = true)\n",
      " |-- MovieID: integer (nullable = true)\n",
      " |-- Rating: integer (nullable = true)\n",
      " |-- Timestamp: integer (nullable = true)\n",
      "\n"
     ]
    }
   ],
   "source": [
    "ratings_df.printSchema()"
   ]
  },
  {
   "cell_type": "code",
   "execution_count": 3,
   "id": "0a900821-d4c0-4e12-a670-d49ae099a6ef",
   "metadata": {},
   "outputs": [
    {
     "name": "stdout",
     "output_type": "stream",
     "text": [
      "+------+-----+\n",
      "|userid|count|\n",
      "+------+-----+\n",
      "|  4169| 2314|\n",
      "|  1680| 1850|\n",
      "|  4277| 1743|\n",
      "|  1941| 1595|\n",
      "|  1181| 1521|\n",
      "|   889| 1518|\n",
      "|  3618| 1344|\n",
      "|  2063| 1323|\n",
      "|  1150| 1302|\n",
      "|  1015| 1286|\n",
      "|  5795| 1277|\n",
      "|  4344| 1271|\n",
      "|  1980| 1260|\n",
      "|  2909| 1258|\n",
      "|  1449| 1243|\n",
      "|  4510| 1240|\n",
      "|   424| 1226|\n",
      "|  4227| 1222|\n",
      "|  5831| 1220|\n",
      "|  3841| 1216|\n",
      "+------+-----+\n",
      "only showing top 20 rows\n",
      "\n"
     ]
    }
   ],
   "source": [
    "# count rating submitted by each user\n",
    "from pyspark.sql.functions import desc\n",
    "ratings_df.groupBy('userid').count().sort(desc('count')).show()"
   ]
  },
  {
   "cell_type": "code",
   "execution_count": 4,
   "id": "675675a7-7891-4786-a41e-2ad798a51cd5",
   "metadata": {},
   "outputs": [
    {
     "name": "stdout",
     "output_type": "stream",
     "text": [
      "+------+------------------+\n",
      "|userid|        avg_rating|\n",
      "+------+------------------+\n",
      "|   148| 3.733974358974359|\n",
      "|   463|               3.0|\n",
      "|   471|3.6285714285714286|\n",
      "|   496| 4.294117647058823|\n",
      "|   833|4.0476190476190474|\n",
      "|  1088|3.3375850340136055|\n",
      "|   243| 3.606060606060606|\n",
      "|   392|3.4743326488706368|\n",
      "|   540| 3.230769230769231|\n",
      "|   623| 4.226744186046512|\n",
      "|   737|3.5668202764976957|\n",
      "|   858| 4.189473684210526|\n",
      "|   897|3.5566502463054186|\n",
      "|  1025| 3.757575757575758|\n",
      "|  1084|              3.15|\n",
      "|    31|  3.73109243697479|\n",
      "|   516| 2.931972789115646|\n",
      "|    85|3.1025641025641026|\n",
      "|   137| 3.611940298507463|\n",
      "|   251|3.5753424657534247|\n",
      "+------+------------------+\n",
      "only showing top 20 rows\n",
      "\n"
     ]
    }
   ],
   "source": [
    "# get each user's ratings average\n",
    "import pyspark.sql.functions as F\n",
    "ratings_df.groupBy('userid').agg(F.avg('rating').alias('avg_rating')).show()"
   ]
  },
  {
   "cell_type": "code",
   "execution_count": 8,
   "id": "97dcf3d1-8adf-4040-ae73-480deaec6b55",
   "metadata": {},
   "outputs": [
    {
     "name": "stderr",
     "output_type": "stream",
     "text": [
      "[Stage 6:=========>                                                 (1 + 5) / 6]\r"
     ]
    },
    {
     "name": "stdout",
     "output_type": "stream",
     "text": [
      "+------+----------+\n",
      "|userid|max_rating|\n",
      "+------+----------+\n",
      "|  3598|         2|\n",
      "|  4486|         3|\n",
      "+------+----------+\n",
      "\n"
     ]
    },
    {
     "name": "stderr",
     "output_type": "stream",
     "text": [
      "                                                                                \r"
     ]
    }
   ],
   "source": [
    "# find users who have not given any 5 star or 4 star rating\n",
    "import pyspark.sql.functions as F\n",
    "ratings_df.groupBy('userid').agg(F.max('rating').alias('max_rating')).filter('max_rating<4').show()"
   ]
  },
  {
   "cell_type": "code",
   "execution_count": 55,
   "id": "0c422abb-f1e0-491c-b137-687aaf4be970",
   "metadata": {},
   "outputs": [
    {
     "name": "stdout",
     "output_type": "stream",
     "text": [
      "+-------+-----------+-------------+\n",
      "|movieid|min(rating)|count(userid)|\n",
      "+-------+-----------+-------------+\n",
      "|    787|          5|            3|\n",
      "|   3233|          5|            2|\n",
      "+-------+-----------+-------------+\n",
      "\n"
     ]
    }
   ],
   "source": [
    "# find movies that are only rated 5 star and by more than 1 user\n",
    "ratings_df.groupBy('movieid').agg(F.min('rating'), F.count('userid')).filter('min(rating)>4 and count(userid)>1').show()"
   ]
  },
  {
   "cell_type": "code",
   "execution_count": 5,
   "id": "770f4de2-1cc0-4897-8a2d-0bd6ba9cf700",
   "metadata": {},
   "outputs": [
    {
     "name": "stdout",
     "output_type": "stream",
     "text": [
      "+------+------+---+----------+--------+\n",
      "|UserID|Gender|Age|Occupation|Zip-code|\n",
      "+------+------+---+----------+--------+\n",
      "|     1|     F|  1|        10|   48067|\n",
      "|     2|     M| 56|        16|   70072|\n",
      "|     3|     M| 25|        15|   55117|\n",
      "|     4|     M| 45|         7|   02460|\n",
      "|     5|     M| 25|        20|   55455|\n",
      "|     6|     F| 50|         9|   55117|\n",
      "|     7|     M| 35|         1|   06810|\n",
      "|     8|     M| 25|        12|   11413|\n",
      "|     9|     M| 25|        17|   61614|\n",
      "|    10|     F| 35|         1|   95370|\n",
      "|    11|     F| 25|         1|   04093|\n",
      "|    12|     M| 25|        12|   32793|\n",
      "|    13|     M| 45|         1|   93304|\n",
      "|    14|     M| 35|         0|   60126|\n",
      "|    15|     M| 25|         7|   22903|\n",
      "|    16|     F| 35|         0|   20670|\n",
      "|    17|     M| 50|         1|   95350|\n",
      "|    18|     F| 18|         3|   95825|\n",
      "|    19|     M|  1|        10|   48073|\n",
      "|    20|     M| 25|        14|   55113|\n",
      "+------+------+---+----------+--------+\n",
      "only showing top 20 rows\n",
      "\n"
     ]
    }
   ],
   "source": [
    "# load users\n",
    "users_df = spark.read.option(\"delimiter\", \"::\").csv(\"../sample_data/movie-lense/users.dat\", inferSchema=True, header=True)\n",
    "users_df.show()"
   ]
  },
  {
   "cell_type": "code",
   "execution_count": 31,
   "id": "e84b694d-de5d-4f84-b4e4-7fbf48b0d9c9",
   "metadata": {},
   "outputs": [
    {
     "name": "stdout",
     "output_type": "stream",
     "text": [
      "root\n",
      " |-- UserID: integer (nullable = true)\n",
      " |-- Gender: string (nullable = true)\n",
      " |-- Age: integer (nullable = true)\n",
      " |-- Occupation: integer (nullable = true)\n",
      " |-- Zip-code: string (nullable = true)\n",
      "\n"
     ]
    }
   ],
   "source": [
    "users_df.printSchema()"
   ]
  },
  {
   "cell_type": "code",
   "execution_count": 6,
   "id": "9d394d94-8cc0-4779-92bd-4f31a5028fcf",
   "metadata": {},
   "outputs": [
    {
     "name": "stdout",
     "output_type": "stream",
     "text": [
      "+-------+--------------------+--------------------+\n",
      "|MovieID|               Title|              Genres|\n",
      "+-------+--------------------+--------------------+\n",
      "|      1|    Toy Story (1995)|Animation|Childre...|\n",
      "|      2|      Jumanji (1995)|Adventure|Childre...|\n",
      "|      3|Grumpier Old Men ...|      Comedy|Romance|\n",
      "|      4|Waiting to Exhale...|        Comedy|Drama|\n",
      "|      5|Father of the Bri...|              Comedy|\n",
      "|      6|         Heat (1995)|Action|Crime|Thri...|\n",
      "|      7|      Sabrina (1995)|      Comedy|Romance|\n",
      "|      8| Tom and Huck (1995)|Adventure|Children's|\n",
      "|      9| Sudden Death (1995)|              Action|\n",
      "|     10|    GoldenEye (1995)|Action|Adventure|...|\n",
      "|     11|American Presiden...|Comedy|Drama|Romance|\n",
      "|     12|Dracula: Dead and...|       Comedy|Horror|\n",
      "|     13|        Balto (1995)|Animation|Children's|\n",
      "|     14|        Nixon (1995)|               Drama|\n",
      "|     15|Cutthroat Island ...|Action|Adventure|...|\n",
      "|     16|       Casino (1995)|      Drama|Thriller|\n",
      "|     17|Sense and Sensibi...|       Drama|Romance|\n",
      "|     18|   Four Rooms (1995)|            Thriller|\n",
      "|     19|Ace Ventura: When...|              Comedy|\n",
      "|     20|  Money Train (1995)|              Action|\n",
      "+-------+--------------------+--------------------+\n",
      "only showing top 20 rows\n",
      "\n"
     ]
    }
   ],
   "source": [
    "# load movies\n",
    "movies_df = spark.read.option(\"delimiter\", \"::\").csv(\"../sample_data/movie-lense/movies.dat\", inferSchema=True, header=True)\n",
    "movies_df.show()"
   ]
  },
  {
   "cell_type": "code",
   "execution_count": 57,
   "id": "666eb6e5-9a15-45f5-8ecd-d8d4f29e5e7f",
   "metadata": {},
   "outputs": [
    {
     "name": "stdout",
     "output_type": "stream",
     "text": [
      "root\n",
      " |-- MovieID: integer (nullable = true)\n",
      " |-- Title: string (nullable = true)\n",
      " |-- Genres: string (nullable = true)\n",
      "\n"
     ]
    }
   ],
   "source": [
    "movies_df.printSchema()"
   ]
  },
  {
   "cell_type": "code",
   "execution_count": 60,
   "id": "3071d211-83a8-4f07-87d3-5bf17b8ef618",
   "metadata": {},
   "outputs": [
    {
     "name": "stdout",
     "output_type": "stream",
     "text": [
      "+-------+--------------------+--------------------+-----------+-------------+\n",
      "|MovieID|               Title|              Genres|min(rating)|count(userid)|\n",
      "+-------+--------------------+--------------------+-----------+-------------+\n",
      "|    787|Gate of Heavenly ...|         Documentary|          5|            3|\n",
      "|   3280|    Baby, The (1973)|              Horror|          5|            1|\n",
      "|    989|Schlafes Bruder (...|               Drama|          5|            1|\n",
      "|   1830|Follow the Bitch ...|              Comedy|          5|            1|\n",
      "|   3881|Bittersweet Motel...|         Documentary|          5|            1|\n",
      "|   3172|Ulysses (Ulisse) ...|           Adventure|          5|            1|\n",
      "|   3233|Smashing Time (1967)|              Comedy|          5|            2|\n",
      "|   3607|One Little Indian...|Comedy|Drama|Western|          5|            1|\n",
      "|   3382|Song of Freedom (...|               Drama|          5|            1|\n",
      "|   3656|        Lured (1947)|               Crime|          5|            1|\n",
      "+-------+--------------------+--------------------+-----------+-------------+\n",
      "\n"
     ]
    }
   ],
   "source": [
    "# show movie names that only rated 5 star\n",
    "df1 = ratings_df.groupBy('movieid').agg(F.min('rating'), F.count('userid')).filter('min(rating)>4')\n",
    "movies_df.join(df1, 'movieid').show()"
   ]
  },
  {
   "cell_type": "code",
   "execution_count": 16,
   "id": "0868684d-596f-4c49-95f6-e4d16a1a396a",
   "metadata": {},
   "outputs": [
    {
     "name": "stdout",
     "output_type": "stream",
     "text": [
      "+-------+--------------------+--------------------+------------------+-------------+\n",
      "|MovieID|               Title|              Genres|       avg(rating)|count(userid)|\n",
      "+-------+--------------------+--------------------+------------------+-------------+\n",
      "|   1311|Santa with Muscle...|              Comedy|               1.0|            7|\n",
      "|   3574|Carnosaur 3: Prim...|       Horror|Sci-Fi|1.0588235294117647|           17|\n",
      "|   3027|Slaughterhouse 2 ...|              Horror|1.1428571428571428|            7|\n",
      "|   3166| Brenda Starr (1989)|           Adventure|1.1666666666666667|            6|\n",
      "|   1720| Time Tracers (1995)|Action|Adventure|...|1.2857142857142858|            7|\n",
      "|   1495|Turbo: A Power Ra...|Action|Adventure|...|1.3181818181818181|           44|\n",
      "|   1739|3 Ninjas: High No...|   Action|Children's|1.3617021276595744|           47|\n",
      "|   1323|Amityville 3-D (1...|              Horror| 1.372093023255814|           43|\n",
      "|   3573|  Carnosaur 2 (1995)|       Horror|Sci-Fi|1.4615384615384615|           26|\n",
      "|    810|       Kazaam (1996)|Children's|Comedy...|1.4666666666666666|          120|\n",
      "|   1989|Prom Night III: T...|              Horror|1.4666666666666666|           15|\n",
      "|   3945|Digimon: The Movi...|Adventure|Animati...|1.4883720930232558|           43|\n",
      "|   3026|Slaughterhouse (1...|              Horror|               1.5|            8|\n",
      "|   2449|Garbage Pail Kids...|Adventure|Children's|           1.53125|           32|\n",
      "|   1383|Adrenalin: Fear t...|       Action|Sci-Fi|1.5454545454545454|           11|\n",
      "|   1826|Barney's Great Ad...|Adventure|Children's|              1.55|           40|\n",
      "|   3042|Meatballs III (1987)|              Comedy|1.5538461538461539|           65|\n",
      "|   2799|Problem Child 2 (...|              Comedy|1.5555555555555556|           99|\n",
      "|   2233|Digging to China ...|               Drama|               1.6|            5|\n",
      "|    703|         Boys (1996)|               Drama|               1.6|           10|\n",
      "+-------+--------------------+--------------------+------------------+-------------+\n",
      "only showing top 20 rows\n",
      "\n"
     ]
    }
   ],
   "source": [
    "# find the movies with lowest average rating and rated by at least 5 users\n",
    "df1 = ratings_df.groupBy('movieid').agg(F.avg('rating'), F.count('userid')).filter('count(userid)>4')\n",
    "movies_df.join(df1, 'movieid').sort(F.asc('avg(rating)')).show()"
   ]
  },
  {
   "cell_type": "markdown",
   "id": "eebac17c-911e-45bf-8bb9-418b8e4e852c",
   "metadata": {},
   "source": [
    "# Find movie recommendation for a user"
   ]
  },
  {
   "cell_type": "code",
   "execution_count": 7,
   "id": "310a2454-8b81-4a5b-a05b-be2b1b15222f",
   "metadata": {},
   "outputs": [
    {
     "data": {
      "text/plain": [
       "'Toy Story (1995)'"
      ]
     },
     "execution_count": 7,
     "metadata": {},
     "output_type": "execute_result"
    }
   ],
   "source": [
    "movies_names = { row['MovieID']: row['Title'] for row in movies_df.rdd.collect() }\n",
    "movies_names[1]"
   ]
  },
  {
   "cell_type": "code",
   "execution_count": 8,
   "id": "e78d28fc-38c3-4c9a-83e9-c435bec494cd",
   "metadata": {},
   "outputs": [],
   "source": [
    "from pyspark.ml.evaluation import RegressionEvaluator\n",
    "from pyspark.ml.recommendation import ALS"
   ]
  },
  {
   "cell_type": "code",
   "execution_count": 9,
   "id": "e1474058-41b0-4cdc-b7e7-d9825e313f51",
   "metadata": {},
   "outputs": [
    {
     "data": {
      "text/plain": [
       "900378"
      ]
     },
     "execution_count": 9,
     "metadata": {},
     "output_type": "execute_result"
    }
   ],
   "source": [
    "(training_df, test_df) = ratings_df.randomSplit([0.9, 0.1], seed=10)\n",
    "training_df.count()"
   ]
  },
  {
   "cell_type": "code",
   "execution_count": 10,
   "id": "3f388c5b-51c5-4050-8572-30d44f4dbaa4",
   "metadata": {},
   "outputs": [
    {
     "name": "stderr",
     "output_type": "stream",
     "text": [
      "24/02/13 15:45:30 WARN InstanceBuilder: Failed to load implementation from:dev.ludovic.netlib.blas.JNIBLAS\n",
      "24/02/13 15:45:30 WARN InstanceBuilder: Failed to load implementation from:dev.ludovic.netlib.lapack.JNILAPACK\n"
     ]
    }
   ],
   "source": [
    "als = ALS(maxIter=20, regParam=0.0001, userCol='UserID', itemCol='MovieID', ratingCol='Rating')\n",
    "model = als.fit(training_df)"
   ]
  },
  {
   "cell_type": "code",
   "execution_count": 11,
   "id": "8103ac78-279a-42b7-b252-da0f8046865d",
   "metadata": {},
   "outputs": [],
   "source": [
    " predictions = model.transform(test_df)"
   ]
  },
  {
   "cell_type": "code",
   "execution_count": 12,
   "id": "213867ae-7c5c-47cc-97ef-e6a645fbf9c3",
   "metadata": {},
   "outputs": [
    {
     "name": "stderr",
     "output_type": "stream",
     "text": [
      "                                                                                \r"
     ]
    },
    {
     "name": "stdout",
     "output_type": "stream",
     "text": [
      "+----------+\n",
      "|prediction|\n",
      "+----------+\n",
      "|       NaN|\n",
      "|       NaN|\n",
      "|       NaN|\n",
      "|       NaN|\n",
      "|       NaN|\n",
      "|       NaN|\n",
      "|       NaN|\n",
      "|       NaN|\n",
      "|       NaN|\n",
      "|       NaN|\n",
      "|       NaN|\n",
      "|       NaN|\n",
      "|       NaN|\n",
      "|       NaN|\n",
      "|       NaN|\n",
      "|       NaN|\n",
      "+----------+\n",
      "\n"
     ]
    }
   ],
   "source": [
    "predictions.select('prediction').filter(\"prediction == 'NaN'\").show()"
   ]
  },
  {
   "cell_type": "code",
   "execution_count": 99,
   "id": "ffccaf8a-5a74-4a2a-8329-141bef6f0b33",
   "metadata": {},
   "outputs": [
    {
     "data": {
      "text/plain": [
       "pyspark.sql.dataframe.DataFrame"
      ]
     },
     "execution_count": 99,
     "metadata": {},
     "output_type": "execute_result"
    }
   ],
   "source": [
    "type(predictions.na.drop())"
   ]
  },
  {
   "cell_type": "code",
   "execution_count": 14,
   "id": "09e811e7-bd73-4b22-ab03-5f902aae18ae",
   "metadata": {},
   "outputs": [
    {
     "name": "stderr",
     "output_type": "stream",
     "text": [
      "[Stage 357:============================>                           (5 + 5) / 10]\r"
     ]
    },
    {
     "name": "stdout",
     "output_type": "stream",
     "text": [
      "+------+-------+------+---------+----------+\n",
      "|UserID|MovieID|Rating|Timestamp|prediction|\n",
      "+------+-------+------+---------+----------+\n",
      "|     2|    110|     5|978298625| 4.3319182|\n",
      "|     1|    260|     4|978300760|  4.262231|\n",
      "|     2|    434|     2|978300174| 2.9618578|\n",
      "|     2|    457|     4|978299773| 4.2564163|\n",
      "|     2|    498|     3|978299418| 2.7943366|\n",
      "|     3|    733|     5|978297757|   3.06048|\n",
      "|     2|    902|     2|978298905|  4.040274|\n",
      "|     1|    938|     4|978301752| 3.6273332|\n",
      "|     3|   1196|     4|978297539| 4.7622943|\n",
      "|     3|   1431|     3|978297095|   3.30723|\n",
      "|     2|   1537|     4|978299620| 3.8317578|\n",
      "|     2|   1552|     3|978299941| 3.0869236|\n",
      "|     1|   1907|     4|978824330| 4.1323614|\n",
      "|     3|   1968|     4|978297068|  4.425769|\n",
      "|     1|   2018|     4|978301777| 4.8495274|\n",
      "|     3|   2081|     4|978298504|  3.938663|\n",
      "|     1|   2321|     3|978302205| 3.4895494|\n",
      "|     1|   2340|     3|978300103|  5.087006|\n",
      "|     2|   2396|     4|978299641| 4.2986975|\n",
      "|     2|   2490|     3|978299966| 2.9383898|\n",
      "+------+-------+------+---------+----------+\n",
      "only showing top 20 rows\n",
      "\n"
     ]
    },
    {
     "name": "stderr",
     "output_type": "stream",
     "text": [
      "                                                                                \r"
     ]
    }
   ],
   "source": [
    "predictions.show()"
   ]
  },
  {
   "cell_type": "code",
   "execution_count": 13,
   "id": "835d78a7-a99d-4f34-adce-e357734bb682",
   "metadata": {},
   "outputs": [
    {
     "name": "stderr",
     "output_type": "stream",
     "text": [
      "                                                                                \r"
     ]
    },
    {
     "name": "stdout",
     "output_type": "stream",
     "text": [
      "0.9854597509750324\n"
     ]
    }
   ],
   "source": [
    "evaluator = RegressionEvaluator(metricName='rmse', labelCol='Rating', predictionCol='prediction')\n",
    "rmse = evaluator.evaluate(predictions.na.drop(subset=['prediction']))\n",
    "print(rmse)"
   ]
  },
  {
   "cell_type": "code",
   "execution_count": 23,
   "id": "d12bfdda-6b92-4bb8-8e6f-06a7a56076e1",
   "metadata": {},
   "outputs": [
    {
     "name": "stderr",
     "output_type": "stream",
     "text": [
      "                                                                                \r"
     ]
    },
    {
     "name": "stdout",
     "output_type": "stream",
     "text": [
      "+------+-------+------+---------+----------+\n",
      "|UserID|MovieID|Rating|Timestamp|prediction|\n",
      "+------+-------+------+---------+----------+\n",
      "|   100|    919|     5|977594947|  4.252399|\n",
      "|   100|    527|     5|977594839| 3.9516923|\n",
      "|   100|    969|     4|977594044| 3.9234064|\n",
      "|   100|   1198|     4|977593607| 3.8870273|\n",
      "|   100|    260|     4|977593595| 3.8632584|\n",
      "|   100|    608|     3|977594932| 3.7646499|\n",
      "|   100|   1197|     4|977594079| 3.7377713|\n",
      "|   100|    858|     4|977593950|  3.726382|\n",
      "|   100|    318|     4|977594839| 3.7216098|\n",
      "|   100|   1387|     3|977594008|  3.680271|\n",
      "|   100|    593|     4|977594809| 3.6374977|\n",
      "|   100|   1196|     4|977593950|  3.614536|\n",
      "|   100|   1304|     3|977593988| 3.5550394|\n",
      "|   100|   2406|     4|977594142| 3.5022452|\n",
      "|   100|    924|     4|977594873| 3.4842052|\n",
      "|   100|    800|     5|977593915| 3.4827921|\n",
      "|   100|    541|     3|977593624|  3.481179|\n",
      "|   100|   2028|     4|977593988|  3.460435|\n",
      "|   100|   1200|     3|977594021| 3.4595747|\n",
      "|   100|   1221|     3|977593950| 3.4432516|\n",
      "+------+-------+------+---------+----------+\n",
      "only showing top 20 rows\n",
      "\n"
     ]
    }
   ],
   "source": [
    "# predicting for specific user\n",
    "user_1 = ratings_df.filter('UserId==100')\n",
    "rec = model.transform(user_1)\n",
    "rec.orderBy('prediction', ascending=False).show()"
   ]
  }
 ],
 "metadata": {
  "kernelspec": {
   "display_name": "Python 3 (ipykernel)",
   "language": "python",
   "name": "python3"
  },
  "language_info": {
   "codemirror_mode": {
    "name": "ipython",
    "version": 3
   },
   "file_extension": ".py",
   "mimetype": "text/x-python",
   "name": "python",
   "nbconvert_exporter": "python",
   "pygments_lexer": "ipython3",
   "version": "3.10.11"
  }
 },
 "nbformat": 4,
 "nbformat_minor": 5
}
